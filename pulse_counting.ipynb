{
 "cells": [
  {
   "cell_type": "markdown",
   "id": "a95a217e",
   "metadata": {},
   "source": [
    "# Pulse counting\n",
    "\n",
    "While QICK was originally developed for RF pulse generation and readout, the high-speed digitization capabilities of the RF-ADCs are also useful for detecting and analyzing DC-coupled baseband pulses.\n",
    "This makes QICK useful for photon counting and timing, and thus for quantum sensing (NV centers) and quantum networking (SNSPD timing).\n",
    "\n",
    "We'll use two identical generators (of the \"interpolated\" type), and connect them to the following:\n",
    "* A regular QICK readout, to see the full waveform and demonstrate the pulse-counting mode of this readout. The pulse-counting mode was added to QICK by the Sandia Lab developers of the QICK-DAWG project (https://github.com/sandialabs/qick-dawg), and is standard in new QICK firmwares.\n",
    "    * See more extensive demos in  https://github.com/openquantumhardware/qick/blob/main/qick_demos/09_photon_counting.ipynb and https://github.com/sandialabs/qick-dawg/blob/zcu216/jupyter_notebooks/photon_counting_demo.ipynb.\n",
    "* A \"time tagger\" readout, to get both pulse counts and times. The time tagger is exclusively meant for digitizing baseband pulses, and is being gradually rolled out in new QICK firmwares.\n",
    "\n",
    "We will use the QICK box. Connect as follows:\n",
    "* DC-out daughtercard in the 3rd DAC slot (ports 12-15). \n",
    "* DC-in daughtercard in the 0th ADC slot (ports 0-1). \n",
    "* DAC port 12 -> ADC port 0\n",
    "* DAC port 13 -> ADC port 1"
   ]
  },
  {
   "cell_type": "code",
   "execution_count": 1,
   "id": "e1c64d80",
   "metadata": {},
   "outputs": [],
   "source": [
    "# jupyter setup boilerplate\n",
    "%matplotlib inline\n",
    "import matplotlib.pyplot as plt\n",
    "import numpy as np\n",
    "from tqdm.auto import tqdm\n",
    "import time\n",
    "\n",
    "from qick import *\n",
    "from qick.rfboard import RFQickSoc216V1\n",
    "\n",
    "# the main program class\n",
    "from qick.asm_v2 import AveragerProgramV2"
   ]
  },
  {
   "cell_type": "code",
   "execution_count": 2,
   "id": "785fe2da",
   "metadata": {},
   "outputs": [],
   "source": [
    "# # crank up the logging (optional)\n",
    "# import logging\n",
    "# # logging.basicConfig(level=logging.DEBUG)\n",
    "# logging.basicConfig(level=logging.INFO, force=True, format='%(levelname)-8s [%(filename)s:%(lineno)d] %(message)s')\n",
    "\n",
    "# # list(logging.root.manager.loggerDict.keys())\n",
    "# # suppress the start/stop messages from the tproc logger\n",
    "# logging.getLogger('qick_processor').setLevel(logging.WARNING)"
   ]
  },
  {
   "cell_type": "markdown",
   "id": "e9d0427a",
   "metadata": {},
   "source": [
    "In order to eliminte jitter, we need the generator and readout clocks to be in integer-ratio relation. We can get this by changing the DAC sampling clocks when we load the firmware (see https://docs.qick.dev/latest/topics/changing_fs.html).\n",
    "\n",
    "Note the following:\n",
    "* Each readout channel has a buffer with the edge-counting capability.\n",
    "* There's one time-tagger block, which is connected to a single ADC."
   ]
  },
  {
   "cell_type": "code",
   "execution_count": 3,
   "id": "af25365a",
   "metadata": {},
   "outputs": [
    {
     "data": {
      "application/javascript": [
       "\n",
       "try {\n",
       "require(['notebook/js/codecell'], function(codecell) {\n",
       "  codecell.CodeCell.options_default.highlight_modes[\n",
       "      'magic_text/x-csrc'] = {'reg':[/^%%microblaze/]};\n",
       "  Jupyter.notebook.events.one('kernel_ready.Kernel', function(){\n",
       "      Jupyter.notebook.get_cells().map(function(cell){\n",
       "          if (cell.cell_type == 'code'){ cell.auto_highlight(); } }) ;\n",
       "  });\n",
       "});\n",
       "} catch (e) {};\n"
      ]
     },
     "metadata": {},
     "output_type": "display_data"
    },
    {
     "data": {
      "application/javascript": [
       "\n",
       "try {\n",
       "require(['notebook/js/codecell'], function(codecell) {\n",
       "  codecell.CodeCell.options_default.highlight_modes[\n",
       "      'magic_text/x-csrc'] = {'reg':[/^%%pybind11/]};\n",
       "  Jupyter.notebook.events.one('kernel_ready.Kernel', function(){\n",
       "      Jupyter.notebook.get_cells().map(function(cell){\n",
       "          if (cell.cell_type == 'code'){ cell.auto_highlight(); } }) ;\n",
       "  });\n",
       "});\n",
       "} catch (e) {};\n"
      ]
     },
     "metadata": {},
     "output_type": "display_data"
    },
    {
     "name": "stdout",
     "output_type": "stream",
     "text": [
      "QICK running on ZCU216, software version 0.2.363\n",
      "\n",
      "Firmware configuration (built Sat Aug 16 12:14:08 2025):\n",
      "\n",
      "\tGlobal clocks (MHz): tProc dispatcher timing 307.200, RF reference 245.760\n",
      "\tGroups of related clocks: [tProc core clock, tProc timing clock, DAC tile 1, DAC tile 2, DAC tile 3], [DAC tile 0], [ADC tile 1, ADC tile 2]\n",
      "\n",
      "\t16 signal generator channels:\n",
      "\t0:\taxis_signal_gen_v6 - fs=9584.640 Msps, fabric=599.040 MHz\n",
      "\t\tenvelope memory: 65536 complex samples (6.838 us)\n",
      "\t\t32-bit DDS, range=9584.640 MHz\n",
      "\t\tDAC tile 0, blk 0 is 0_228 on JHC1, or QICK box DAC port 0\n",
      "\t1:\taxis_signal_gen_v6 - fs=9584.640 Msps, fabric=599.040 MHz\n",
      "\t\tenvelope memory: 16384 complex samples (1.709 us)\n",
      "\t\t32-bit DDS, range=9584.640 MHz\n",
      "\t\tDAC tile 0, blk 1 is 1_228 on JHC2, or QICK box DAC port 1\n",
      "\t2:\taxis_signal_gen_v6 - fs=9584.640 Msps, fabric=599.040 MHz\n",
      "\t\tenvelope memory: 32768 complex samples (3.419 us)\n",
      "\t\t32-bit DDS, range=9584.640 MHz\n",
      "\t\tDAC tile 0, blk 2 is 2_228 on JHC1, or QICK box DAC port 2\n",
      "\t3:\taxis_signal_gen_v6 - fs=9584.640 Msps, fabric=599.040 MHz\n",
      "\t\tenvelope memory: 16384 complex samples (1.709 us)\n",
      "\t\t32-bit DDS, range=9584.640 MHz\n",
      "\t\tDAC tile 0, blk 3 is 3_228 on JHC2, or QICK box DAC port 3\n",
      "\t4:\taxis_sg_mixmux8_v1 - fs=4915.200 Msps, fabric=307.200 MHz\n",
      "\t\t32-bit DDS, range=1228.800 MHz\n",
      "\t\tDAC tile 1, blk 0 is 0_229 on JHC1, or QICK box DAC port 4\n",
      "\t5:\taxis_sg_int4_v2 - fs=4915.200 Msps, fabric=307.200 MHz\n",
      "\t\tenvelope memory: 16384 complex samples (53.333 us)\n",
      "\t\t32-bit DDS, range=1228.800 MHz\n",
      "\t\tDAC tile 1, blk 1 is 1_229 on JHC2, or QICK box DAC port 5\n",
      "\t6:\taxis_sg_int4_v2 - fs=4915.200 Msps, fabric=307.200 MHz\n",
      "\t\tenvelope memory: 8192 complex samples (26.667 us)\n",
      "\t\t32-bit DDS, range=1228.800 MHz\n",
      "\t\tDAC tile 1, blk 2 is 2_229 on JHC1, or QICK box DAC port 6\n",
      "\t7:\taxis_sg_int4_v2 - fs=4915.200 Msps, fabric=307.200 MHz\n",
      "\t\tenvelope memory: 16384 complex samples (53.333 us)\n",
      "\t\t32-bit DDS, range=1228.800 MHz\n",
      "\t\tDAC tile 1, blk 3 is 3_229 on JHC2, or QICK box DAC port 7\n",
      "\t8:\taxis_sg_int4_v2 - fs=4915.200 Msps, fabric=307.200 MHz\n",
      "\t\tenvelope memory: 8192 complex samples (26.667 us)\n",
      "\t\t32-bit DDS, range=1228.800 MHz\n",
      "\t\tDAC tile 2, blk 0 is 0_230 on JHC3, or QICK box DAC port 8\n",
      "\t9:\taxis_sg_int4_v2 - fs=4915.200 Msps, fabric=307.200 MHz\n",
      "\t\tenvelope memory: 8192 complex samples (26.667 us)\n",
      "\t\t32-bit DDS, range=1228.800 MHz\n",
      "\t\tDAC tile 2, blk 1 is 1_230 on JHC4, or QICK box DAC port 9\n",
      "\t10:\taxis_sg_int4_v2 - fs=4915.200 Msps, fabric=307.200 MHz\n",
      "\t\tenvelope memory: 8192 complex samples (26.667 us)\n",
      "\t\t32-bit DDS, range=1228.800 MHz\n",
      "\t\tDAC tile 2, blk 2 is 2_230 on JHC3, or QICK box DAC port 10\n",
      "\t11:\taxis_sg_int4_v2 - fs=4915.200 Msps, fabric=307.200 MHz\n",
      "\t\tenvelope memory: 8192 complex samples (26.667 us)\n",
      "\t\t32-bit DDS, range=1228.800 MHz\n",
      "\t\tDAC tile 2, blk 3 is 3_230 on JHC4, or QICK box DAC port 11\n",
      "\t12:\taxis_sg_int4_v2 - fs=4915.200 Msps, fabric=307.200 MHz\n",
      "\t\tenvelope memory: 8192 complex samples (26.667 us)\n",
      "\t\t32-bit DDS, range=1228.800 MHz\n",
      "\t\tDAC tile 3, blk 0 is 0_231 on JHC3, or QICK box DAC port 12\n",
      "\t13:\taxis_sg_int4_v2 - fs=4915.200 Msps, fabric=307.200 MHz\n",
      "\t\tenvelope memory: 8192 complex samples (26.667 us)\n",
      "\t\t32-bit DDS, range=1228.800 MHz\n",
      "\t\tDAC tile 3, blk 1 is 1_231 on JHC4, or QICK box DAC port 13\n",
      "\t14:\taxis_sg_int4_v2 - fs=4915.200 Msps, fabric=307.200 MHz\n",
      "\t\tenvelope memory: 8192 complex samples (26.667 us)\n",
      "\t\t32-bit DDS, range=1228.800 MHz\n",
      "\t\tDAC tile 3, blk 2 is 2_231 on JHC3, or QICK box DAC port 14\n",
      "\t15:\taxis_sg_int4_v2 - fs=4915.200 Msps, fabric=307.200 MHz\n",
      "\t\tenvelope memory: 8192 complex samples (26.667 us)\n",
      "\t\t32-bit DDS, range=1228.800 MHz\n",
      "\t\tDAC tile 3, blk 3 is 3_231 on JHC4, or QICK box DAC port 15\n",
      "\n",
      "\t11 readout channels:\n",
      "\t0:\taxis_dyn_readout_v1 - configured by tProc output 4\n",
      "\t\tfs=2457.600 Msps, decimated=307.200 MHz, 32-bit DDS, range=2457.600 MHz\n",
      "\t\taxis_avg_buffer v1.2 (has edge counter, no weights)\n",
      "\t\tmemory 8192 accumulated, 4096 decimated (13.333 us)\n",
      "\t\ttriggered by tport 10, pin 0, feedback to tProc input 0\n",
      "\t\tADC tile 2, blk 0 is 0_226 on JHC7, or QICK box ADC port 4\n",
      "\t1:\taxis_dyn_readout_v1 - configured by tProc output 4\n",
      "\t\tfs=2457.600 Msps, decimated=307.200 MHz, 32-bit DDS, range=2457.600 MHz\n",
      "\t\taxis_avg_buffer v1.2 (has edge counter, no weights)\n",
      "\t\tmemory 8192 accumulated, 4096 decimated (13.333 us)\n",
      "\t\ttriggered by tport 11, pin 0, feedback to tProc input 1\n",
      "\t\tADC tile 2, blk 2 is 2_226 on JHC7, or QICK box ADC port 6\n",
      "\t2:\taxis_pfb_readout_v4 - configured by PYNQ\n",
      "\t\tfs=2457.600 Msps, decimated=38.400 MHz, 32-bit DDS, range=38.400 MHz\n",
      "\t\taxis_avg_buffer v1.2 (has edge counter, no weights)\n",
      "\t\tmemory 8192 accumulated, 1024 decimated (26.667 us)\n",
      "\t\ttriggered by tport 12, pin 0, feedback to tProc input 2\n",
      "\t\tADC tile 2, blk 1 is 1_226 on JHC8, or QICK box ADC port 5\n",
      "\t3:\taxis_pfb_readout_v4 - configured by PYNQ\n",
      "\t\tfs=2457.600 Msps, decimated=38.400 MHz, 32-bit DDS, range=38.400 MHz\n",
      "\t\taxis_avg_buffer v1.2 (has edge counter, no weights)\n",
      "\t\tmemory 8192 accumulated, 1024 decimated (26.667 us)\n",
      "\t\ttriggered by tport 13, pin 0, feedback to tProc input 3\n",
      "\t\tADC tile 2, blk 1 is 1_226 on JHC8, or QICK box ADC port 5\n",
      "\t4:\taxis_pfb_readout_v4 - configured by PYNQ\n",
      "\t\tfs=2457.600 Msps, decimated=38.400 MHz, 32-bit DDS, range=38.400 MHz\n",
      "\t\taxis_avg_buffer v1.2 (has edge counter, no weights)\n",
      "\t\tmemory 8192 accumulated, 1024 decimated (26.667 us)\n",
      "\t\ttriggered by tport 14, pin 0, feedback to tProc input 4\n",
      "\t\tADC tile 2, blk 1 is 1_226 on JHC8, or QICK box ADC port 5\n",
      "\t5:\taxis_pfb_readout_v4 - configured by PYNQ\n",
      "\t\tfs=2457.600 Msps, decimated=38.400 MHz, 32-bit DDS, range=38.400 MHz\n",
      "\t\taxis_avg_buffer v1.2 (has edge counter, no weights)\n",
      "\t\tmemory 8192 accumulated, 1024 decimated (26.667 us)\n",
      "\t\ttriggered by tport 15, pin 0, feedback to tProc input 5\n",
      "\t\tADC tile 2, blk 1 is 1_226 on JHC8, or QICK box ADC port 5\n",
      "\t6:\taxis_pfb_readout_v4 - configured by PYNQ\n",
      "\t\tfs=2457.600 Msps, decimated=38.400 MHz, 32-bit DDS, range=38.400 MHz\n",
      "\t\taxis_avg_buffer v1.2 (has edge counter, no weights)\n",
      "\t\tmemory 8192 accumulated, 1024 decimated (26.667 us)\n",
      "\t\ttriggered by tport 16, pin 0, feedback to tProc input 6\n",
      "\t\tADC tile 2, blk 1 is 1_226 on JHC8, or QICK box ADC port 5\n",
      "\t7:\taxis_pfb_readout_v4 - configured by PYNQ\n",
      "\t\tfs=2457.600 Msps, decimated=38.400 MHz, 32-bit DDS, range=38.400 MHz\n",
      "\t\taxis_avg_buffer v1.2 (has edge counter, no weights)\n",
      "\t\tmemory 8192 accumulated, 1024 decimated (26.667 us)\n",
      "\t\ttriggered by tport 17, pin 0, feedback to tProc input 7\n",
      "\t\tADC tile 2, blk 1 is 1_226 on JHC8, or QICK box ADC port 5\n",
      "\t8:\taxis_pfb_readout_v4 - configured by PYNQ\n",
      "\t\tfs=2457.600 Msps, decimated=38.400 MHz, 32-bit DDS, range=38.400 MHz\n",
      "\t\taxis_avg_buffer v1.2 (has edge counter, no weights)\n",
      "\t\tmemory 8192 accumulated, 1024 decimated (26.667 us)\n",
      "\t\ttriggered by tport 6, pin 0, feedback to tProc input -1\n",
      "\t\tADC tile 2, blk 1 is 1_226 on JHC8, or QICK box ADC port 5\n",
      "\t9:\taxis_pfb_readout_v4 - configured by PYNQ\n",
      "\t\tfs=2457.600 Msps, decimated=38.400 MHz, 32-bit DDS, range=38.400 MHz\n",
      "\t\taxis_avg_buffer v1.2 (has edge counter, no weights)\n",
      "\t\tmemory 8192 accumulated, 1024 decimated (26.667 us)\n",
      "\t\ttriggered by tport 7, pin 0, feedback to tProc input -1\n",
      "\t\tADC tile 2, blk 1 is 1_226 on JHC8, or QICK box ADC port 5\n",
      "\t10:\taxis_dyn_readout_v1 - configured by tProc output 4\n",
      "\t\tfs=2457.600 Msps, decimated=307.200 MHz, 32-bit DDS, range=2457.600 MHz\n",
      "\t\taxis_avg_buffer v1.2 (has edge counter, no weights)\n",
      "\t\tmemory 8192 accumulated, 4096 decimated (13.333 us)\n",
      "\t\ttriggered by tport 18, pin 0, feedback to tProc input -1\n",
      "\t\tADC tile 1, blk 0 is 0_225 on JHC5, or QICK box ADC port 0\n",
      "\n",
      "\t1 time-tagger blocks:\n",
      "\t0:\tqick_time_tagger\n",
      "\t\tmemories: 4096 time-tags (TAG), 1024 counts (ARM), 16384 samples (SMP)\n",
      "\t\tarmed by tport 5, pin 0\n",
      "\t\tis tProc peripheral A\n",
      "\t\t1 ADC ports:\n",
      "\t\t  0_0: ADC tile 1, blk 1 is 1_225 on JHC6, or QICK box ADC port 1\n",
      "\n",
      "\t5 digital output pins:\n",
      "\t0:\tSPARE0_1V8\n",
      "\t1:\tSPARE1_1V8\n",
      "\t2:\tSPARE2_1V8\n",
      "\t3:\tSPARE3_1V8\n",
      "\t4:\tSPARE4_1V8\n",
      "\n",
      "\ttProc: qick_processor (\"v2\") rev 26, core execution clock 153.600 MHz\n",
      "\t\tmemories (words): program 4096, data 16384, waveform 1024\n",
      "\t\texternal start pin: SPARE5_1V8\n",
      "\t\texternal stop pin: None\n",
      "\n",
      "\tDDR4 memory buffer: 1073741824 samples (3.495 sec), 128 samples/transfer\n",
      "\t\twired to readouts [0, 1, 2, 3, 4, 5, 6, 7, 8, 9, 10]\n",
      "\n",
      "\tMR buffer: 8192 samples (3.333 us), wired to readouts [0, 1, 10]\n",
      "\n",
      "QICK box daughter cards detected:\n",
      "\tADC slot 0: DC In card has ports [0, 1]\n",
      "\tADC slot 1: DC In card has ports [2, 3]\n",
      "\tADC slot 2: RF In card has ports [4, 5]\n",
      "\tADC slot 3: No card detected\n",
      "\tDAC slot 0: No card detected\n",
      "\tDAC slot 1: RF Out card has ports [4, 5, 6, 7]\n",
      "\tDAC slot 2: No card detected\n",
      "\tDAC slot 3: DC Out card has ports [12, 13, 14, 15]\n"
     ]
    }
   ],
   "source": [
    "# Load bitstream\n",
    "soc = RFQickSoc216V1('fw/2025-08-15_216_tprocv2r26_rfbv2_standard/qick_216_rfbv2.bit',\n",
    "                     dac_sample_rates={1: 4915.2, 2: 4915.2, 3: 4915.2},\n",
    "                    )\n",
    "\n",
    "soccfg = soc\n",
    "print(soccfg)"
   ]
  },
  {
   "cell_type": "markdown",
   "id": "b704e397",
   "metadata": {},
   "source": [
    "Channel numbers and constants:"
   ]
  },
  {
   "cell_type": "code",
   "execution_count": 4,
   "id": "e87f79a8",
   "metadata": {},
   "outputs": [],
   "source": [
    "# firmware channel numbers for generators, readout, and time tagger\n",
    "GEN_CH_RO=12 # the generator connected to the regular readout\n",
    "GEN_CH_TT=13 # the generator connected to the time tagger\n",
    "RO_CH=10\n",
    "TT_BLK=0\n",
    "\n",
    "# physical DAC and ADC ports\n",
    "DAC_RO=12\n",
    "DAC_TT=13\n",
    "ADC_RO=0\n",
    "ADC_TT=1\n",
    "\n",
    "# gain for the DC-coupled amplifers on the DC-in daughterboard\n",
    "ADC_GAIN = 0 # dB, -6 through 26\n",
    "\n",
    "# trigger time for the regular readout, to align the readout window with the pulses\n",
    "TRIG_TIME_RO = 0.4\n",
    "# trigger time for the time-tagger, to align the arm window with the pulses\n",
    "TRIG_TIME_TT = 0.1\n",
    "# number of pulses we'll play per shot\n",
    "N_PULSES = 4"
   ]
  },
  {
   "cell_type": "markdown",
   "id": "0ac20e5a",
   "metadata": {},
   "source": [
    "Configure the daughtercards."
   ]
  },
  {
   "cell_type": "code",
   "execution_count": 5,
   "id": "27d08650",
   "metadata": {},
   "outputs": [],
   "source": [
    "soc.rfb_set_dac_dc(DAC_TT)\n",
    "soc.rfb_set_dac_dc(DAC_RO)\n",
    "soc.rfb_set_adc_dc(ADC_TT, gain=ADC_GAIN)\n",
    "soc.rfb_set_adc_dc(ADC_RO, gain=ADC_GAIN);"
   ]
  },
  {
   "cell_type": "markdown",
   "id": "76a7af60",
   "metadata": {},
   "source": [
    "### Calibration\n",
    "\n",
    "By default the ADCs self-calibrate continuously, which performs adequately for RF signals.\n",
    "For DC-coupled pulses, it's useful to intentionally calibrate the ADCs; otherwise the calibration tends to drift, and their construction (8 \"sub-ADCs\" operating in parallel) creates periodic patterns in the output data.\n",
    "\n",
    "Calibrating an ADC requires feeding it with a low-frequency RF tone between 0 and -40 dB full-scale, allowing the self-calibration to run, and then freezing the calibration before removing the calibration signal. (See https://docs.amd.com/r/en-US/pg269-rf-data-converter/Background-Calibration-Process.)"
   ]
  },
  {
   "cell_type": "code",
   "execution_count": 6,
   "id": "b64c7243",
   "metadata": {},
   "outputs": [],
   "source": [
    "class CalProgram(AveragerProgramV2):\n",
    "    def _initialize(self, cfg):\n",
    "        for gen_ch in cfg['gen_chs']:\n",
    "            self.declare_gen(ch=gen_ch, nqz=1, mixer_freq=0)\n",
    "            self.add_pulse(ch=gen_ch, name=\"myconst%d\"%(gen_ch),\n",
    "                           style=\"const\", \n",
    "                           length=1.0, \n",
    "                           freq=cfg['freq'],\n",
    "                           phase=0,\n",
    "                           gain=1.0,\n",
    "                           mode='periodic', # play repeatedly, forever\n",
    "                          )\n",
    "\n",
    "    def _body(self, cfg):\n",
    "        for gen_ch in cfg['gen_chs']:\n",
    "            self.pulse(ch=gen_ch, name=\"myconst%d\"%(gen_ch), t=0)\n",
    "        \n",
    "calcfg = {'gen_chs': [GEN_CH_TT, GEN_CH_RO],\n",
    "          'freq': 100,\n",
    "         }\n",
    "calprog = CalProgram(soccfg, reps=1, final_delay=0.5, cfg=calcfg)\n",
    "\n",
    "# run the program, which will play a continuous calibration tone\n",
    "calprog.run(soc)\n",
    "\n",
    "adcs = []\n",
    "adcs.append(soccfg['readouts'][RO_CH]['adc'])\n",
    "adcs.extend(soccfg['time_taggers'][TT_BLK]['adcs'])\n",
    "\n",
    "# enable ADC calibration for 1 second, then freeze the calibration\n",
    "soc.unfreeze_adc_cals(adcs)\n",
    "time.sleep(1)\n",
    "soc.freeze_adc_cals(adcs)\n",
    "\n",
    "# stop playing the calibration tone\n",
    "soc.reset_gens()"
   ]
  },
  {
   "cell_type": "markdown",
   "id": "f78ee6cc",
   "metadata": {},
   "source": [
    "## Regular readout buffer, edge-counting mode\n",
    "\n",
    "Here's the program we'll use for this demo, which does the following:\n",
    "* plays four square pulses, at an interval of 0.2 us, on each of the two generators\n",
    "  * these are baseband pulses; the edge-counting readout (which operates on the downconverted+decimated data) can also work with RF pulses, the time tagger (which operates on raw ADC samples) cannot\n",
    "* reads out the regular readout\n",
    "  * optionally configures this readout for edge-counting mode instead of averaging mode\n",
    "* optionally arms the time tagger"
   ]
  },
  {
   "cell_type": "code",
   "execution_count": 7,
   "id": "76783d45",
   "metadata": {},
   "outputs": [],
   "source": [
    "class ArmingProgram(AveragerProgramV2):\n",
    "    def _initialize(self, cfg):\n",
    "        ro_ch = cfg['ro_ch']\n",
    "        \n",
    "        for gen_ch in cfg['gen_chs']:\n",
    "            self.declare_gen(ch=gen_ch, nqz=1, mixer_freq=0)\n",
    "        self.declare_readout(ch=ro_ch, length=cfg['ro_len'],\n",
    "                             edge_counting=cfg['counting_ro'],\n",
    "                             high_threshold=cfg['counting_hithresh'],\n",
    "                             low_threshold=cfg['counting_lothresh'],        \n",
    "                            )\n",
    "        self.add_pulse(ch=cfg['gen_chs'], name=\"myconst\",\n",
    "                       style=\"const\", \n",
    "                       length=0.05,\n",
    "                       freq=0, \n",
    "                       phase=0,\n",
    "                       gain=1.0,\n",
    "                      )\n",
    "        \n",
    "        self.add_readoutconfig(ch=ro_ch, name=\"myro\",\n",
    "                               freq=0,\n",
    "                               outsel='input',\n",
    "                              )\n",
    "        \n",
    "        # configure the regular readout\n",
    "        self.send_readoutconfig(ch=ro_ch, name=\"myro\", t=0)\n",
    "\n",
    "    def _body(self, cfg):\n",
    "        if cfg['arm_tt']:\n",
    "            self.trigger(tts=[cfg['tt_blk']], t=cfg['trig_time_tt'], width=cfg['ro_len'])\n",
    "        self.trigger(ros=[cfg['ro_ch']], t=cfg['trig_time_ro'])\n",
    "\n",
    "        # play 4 pulses, 0.2 us apart\n",
    "        for ich, gen_ch in enumerate(cfg['gen_chs']):\n",
    "            for ipulse in range(N_PULSES):\n",
    "                self.pulse(ch=gen_ch, name=\"myconst\", t=0.2*ipulse, tag=\"%d_%d\"%(ipulse, ich))\n",
    "            \n",
    "config = {'gen_chs': [GEN_CH_TT, GEN_CH_RO], # generators to play pulses on\n",
    "          'ro_ch': RO_CH, # the regular readout\n",
    "          'tt_blk': TT_BLK, # the regular readout\n",
    "          'ro_len': 0.8, # readout window for the regular readout and time-tagger [us]\n",
    "          'trig_time_ro': TRIG_TIME_RO, # trigger time for the regular readout [us]\n",
    "          'trig_time_tt': TRIG_TIME_TT, # arming time for the time-tagger [us]\n",
    "          'arm_tt': False, # whether to arm the time-tagger inside the program\n",
    "          'counting_ro': False, # whether to run the regular readout in counting or averaging mode\n",
    "          'counting_hithresh': None, # high threshold for counting mode [arb. readout units]\n",
    "          'counting_lothresh': None, # low threshold for counting mode [arb. readout units]\n",
    "         }"
   ]
  },
  {
   "cell_type": "markdown",
   "id": "2c3cd743",
   "metadata": {},
   "source": [
    "If we run the regular readout in decimated mode, we see the pulse train we generated."
   ]
  },
  {
   "cell_type": "code",
   "execution_count": 8,
   "id": "147ffdfd",
   "metadata": {},
   "outputs": [
    {
     "data": {
      "application/vnd.jupyter.widget-view+json": {
       "model_id": "f0a65e52290b4111b1694de63c1e8319",
       "version_major": 2,
       "version_minor": 0
      },
      "text/plain": [
       "  0%|          | 0/1 [00:00<?, ?it/s]"
      ]
     },
     "metadata": {},
     "output_type": "display_data"
    },
    {
     "data": {
      "image/png": "[encoded data removed]",
      "text/plain": [
       "<Figure size 432x288 with 1 Axes>"
      ]
     },
     "metadata": {
      "needs_background": "light"
     },
     "output_type": "display_data"
    }
   ],
   "source": [
    "prog = ArmingProgram(soccfg, reps=1, final_delay=2.0, cfg=config)\n",
    "\n",
    "iq_list = prog.acquire_decimated(soc)\n",
    "t = prog.get_time_axis(0)\n",
    "samples = iq_list[0][:,0]\n",
    "plt.plot(t, samples)\n",
    "\n",
    "# # show the Schmitt-trigger thresholds\n",
    "# plt.axhline(config['counting_hithresh']+0.5, color='purple')\n",
    "# plt.axhline(config['counting_lothresh']-0.5, color='purple')\n",
    "\n",
    "plt.ylabel(\"amplitude [arb. units]\")\n",
    "plt.xlabel(\"time [us]\");"
   ]
  },
  {
   "cell_type": "markdown",
   "id": "e8544feb",
   "metadata": {},
   "source": [
    "If we run the regular readout in averaging mode, we get the average of the decimated samples."
   ]
  },
  {
   "cell_type": "code",
   "execution_count": 9,
   "id": "68e0eb1e",
   "metadata": {},
   "outputs": [
    {
     "data": {
      "application/vnd.jupyter.widget-view+json": {
       "model_id": "4eb93061566449adb2ea0078eef69a44",
       "version_major": 2,
       "version_minor": 0
      },
      "text/plain": [
       "  0%|          | 0/1 [00:00<?, ?it/s]"
      ]
     },
     "metadata": {},
     "output_type": "display_data"
    },
    {
     "name": "stdout",
     "output_type": "stream",
     "text": [
      "average amplitude: 1578.247967\n"
     ]
    }
   ],
   "source": [
    "prog = ArmingProgram(soccfg, reps=1, final_delay=2.0, cfg=config)\n",
    "iq_list = prog.acquire(soc)\n",
    "print(\"average amplitude: %f\" %(iq_list[0][0,0]))"
   ]
  },
  {
   "cell_type": "markdown",
   "id": "ee075187",
   "metadata": {},
   "source": [
    "Now let's switch to counting mode.\n",
    "The edge-counting mode uses a threshold with hysteresis (aka Schmitt trigger) to reduce double-triggering:\n",
    "give it a high and a low threshold, where an edge is only counted if the signal rises from the low to the high threshold.\n",
    "\n",
    "Having done that, we get the number of pulses."
   ]
  },
  {
   "cell_type": "code",
   "execution_count": 10,
   "id": "80ebeb76",
   "metadata": {},
   "outputs": [
    {
     "data": {
      "application/vnd.jupyter.widget-view+json": {
       "model_id": "d87f658512e14e6592172c07cd213919",
       "version_major": 2,
       "version_minor": 0
      },
      "text/plain": [
       "  0%|          | 0/1 [00:00<?, ?it/s]"
      ]
     },
     "metadata": {},
     "output_type": "display_data"
    },
    {
     "name": "stdout",
     "output_type": "stream",
     "text": [
      "pulse count: 4.000000\n"
     ]
    }
   ],
   "source": [
    "config['counting_ro'] = True\n",
    "config['counting_hithresh'] = 4000 # high threshold for counting mode [arb. readout units]\n",
    "config['counting_lothresh'] = 2000 # low threshold for counting mode [arb. readout units]\n",
    "\n",
    "prog = ArmingProgram(soccfg, reps=1, final_delay=2.0, cfg=config)\n",
    "iq_list = prog.acquire(soc)\n",
    "print(\"pulse count: %f\" %(iq_list[0][0,0]))"
   ]
  },
  {
   "cell_type": "markdown",
   "id": "54895931",
   "metadata": {},
   "source": [
    "Now let's run a repeated measurement.\n",
    "\n",
    "In the same way that normally (with averaged readout) you can get shot-by-shot averaged amplitudes using `get_raw()`, you can get shot-by-shot pulse counts."
   ]
  },
  {
   "cell_type": "code",
   "execution_count": 11,
   "id": "1d21f333",
   "metadata": {},
   "outputs": [
    {
     "data": {
      "application/vnd.jupyter.widget-view+json": {
       "model_id": "d52ea36bc8624ee49dd4a66cf1310f48",
       "version_major": 2,
       "version_minor": 0
      },
      "text/plain": [
       "  0%|          | 0/10 [00:00<?, ?it/s]"
      ]
     },
     "metadata": {},
     "output_type": "display_data"
    },
    {
     "name": "stdout",
     "output_type": "stream",
     "text": [
      "average pulse count: 4.000000\n",
      "shot-by-shot pulse counts: [4 4 4 4 4 4 4 4 4 4]\n"
     ]
    }
   ],
   "source": [
    "prog = ArmingProgram(soccfg, reps=10, final_delay=2.0, cfg=config)\n",
    "iq_list = prog.acquire(soc)\n",
    "print(\"average pulse count: %f\" %(iq_list[0][0,0]))\n",
    "print(\"shot-by-shot pulse counts: %s\" % (prog.get_raw()[0][:,0,0]))"
   ]
  },
  {
   "cell_type": "markdown",
   "id": "db764375",
   "metadata": {},
   "source": [
    "To summarize: the edge-counting mode is an easy way to do pulse counting in QICK with a minimal learning curve, since it uses the same interfaces and datapaths as averaging readout."
   ]
  },
  {
   "cell_type": "markdown",
   "id": "083b264d",
   "metadata": {},
   "source": [
    "### Time tagger"
   ]
  },
  {
   "cell_type": "code",
   "execution_count": 12,
   "id": "94efe61c",
   "metadata": {},
   "outputs": [],
   "source": [
    "def plot_tags(soc, soccfg, blk, nsamp, tt_dt):\n",
    "    \"\"\"Read the time-tagger memories. Print the times, plot the samples.\n",
    "    \"\"\"\n",
    "    ttcfg = soccfg['time_taggers'][blk]\n",
    "    \n",
    "    arms = soc.tt_readmem(blk, 'ARM')\n",
    "    tags = soc.tt_readmem(blk, 'TAG0')\n",
    "    smps = soc.tt_readmem(blk, 'SMP')\n",
    "    print(\"total tags:\", len(tags))\n",
    "    print(\"tags per arming window:\", arms)\n",
    "\n",
    "    t = np.arange(nsamp*8)/(8*ttcfg['f_fabric'])\n",
    "    if len(smps) > 0 and len(arms) > 0:\n",
    "        # be lazy, assume that we have the same number of tags in every shot\n",
    "        # (instead of using the ARM array)\n",
    "        tags = tags.reshape((-1, N_PULSES))\n",
    "        \n",
    "        # print raw tag values\n",
    "        print(\"tags [raw units]:\")\n",
    "        for x in tags: print(x)\n",
    "\n",
    "        # print tags in real units\n",
    "        tag_times = tags*tt_dt\n",
    "        t_ref = tag_times[0,0]\n",
    "        print(\"tags relative to %f [ns]:\" % (t_ref))\n",
    "        for x in tag_times: print(x - t_ref)\n",
    "\n",
    "        # plot the samples\n",
    "        for iShot, armsamps in enumerate(smps.reshape((-1, N_PULSES, nsamp*8))):\n",
    "            for iTag, samps in enumerate(armsamps):\n",
    "                plt.plot(t, samps, label='shot %d, tag %d'%(iShot, iTag))\n",
    "        plt.legend()\n",
    "        plt.ylabel(\"amplitude [arb. units]\")\n",
    "        plt.xlabel(\"time [us]\");"
   ]
  },
  {
   "cell_type": "markdown",
   "id": "231c7e66",
   "metadata": {},
   "source": [
    "The time tagger counts pulses and records their times.\n",
    "It can also capture a small time window for each pulse.\n",
    "\n",
    "The algorithm for edge detection and time measurement can be configured in several ways; here we use 4-bit interpolation, which improves the time resolution to 1/16 of the ADC sample interval."
   ]
  },
  {
   "cell_type": "code",
   "execution_count": 13,
   "id": "7f549e74",
   "metadata": {},
   "outputs": [
    {
     "name": "stdout",
     "output_type": "stream",
     "text": [
      "time-tag resolution is 0.025431 ns\n"
     ]
    }
   ],
   "source": [
    "TT_NSAMP = 20 # units of ADC fabric ticks\n",
    "TT_THRESHOLD = 3000 # units of amplitude, as measured by time-tagger\n",
    "TT_INTERP = 4 # number of bits for interpolation\n",
    "\n",
    "# calculate the time resolution after interpolation\n",
    "tt_dt = 1e3/(soccfg['time_taggers'][TT_BLK]['f_fabric'] * 8 * 2**TT_INTERP)\n",
    "\n",
    "print(\"time-tag resolution is %f ns\" % (tt_dt))\n",
    "\n",
    "soc.tt_config(TT_BLK,\n",
    "             threshold=TT_THRESHOLD,\n",
    "             wr_smp=TT_NSAMP,\n",
    "             filt=False,\n",
    "             slope=False,\n",
    "             invert=False,\n",
    "             interp=TT_INTERP,\n",
    "             deadtime=30, # units of ADC fabric ticks\n",
    "             )"
   ]
  },
  {
   "cell_type": "markdown",
   "id": "a1640065",
   "metadata": {},
   "source": [
    "The time tagger captures pulses only while it is armed; pulse times (tags) are defined relative to the start of the arming window.\n",
    "\n",
    "The simplest way to use the time tagger is to arm it from software, capturing all of the pulses in a single arm window.\n",
    "\n",
    "We'll run two shots.\n",
    "We see that all 8 pulses are measured relative to a large (tens of ms) offset, because the time tagger is armed a long time before the program actually runs.\n"
   ]
  },
  {
   "cell_type": "code",
   "execution_count": 14,
   "id": "4e672d25",
   "metadata": {},
   "outputs": [
    {
     "data": {
      "application/vnd.jupyter.widget-view+json": {
       "model_id": "2e489a1c0c754b1791ea8983f4f259de",
       "version_major": 2,
       "version_minor": 0
      },
      "text/plain": [
       "  0%|          | 0/1 [00:00<?, ?it/s]"
      ]
     },
     "metadata": {},
     "output_type": "display_data"
    },
    {
     "name": "stdout",
     "output_type": "stream",
     "text": [
      "total tags: 8\n",
      "tags per arming window: [8]\n",
      "tags [raw units]:\n",
      "[1203669648 1203677457 1203685393 1203693201]\n",
      "[1203795473 1203803281 1203811217 1203819025]\n",
      "tags relative to 30610902.099609 [ns]:\n",
      "[  0.         198.59313965 400.41605632 598.98376465]\n",
      "[3199.89522298 3398.46293132 3600.28584798 3798.85355632]\n"
     ]
    },
    {
     "data": {
      "image/png": "[encoded data removed]",
      "text/plain": [
       "<Figure size 432x288 with 1 Axes>"
      ]
     },
     "metadata": {
      "needs_background": "light"
     },
     "output_type": "display_data"
    }
   ],
   "source": [
    "config['arm_tt'] = False\n",
    "prog = ArmingProgram(soccfg, reps=2, final_delay=2.0, cfg=config)\n",
    "\n",
    "soc.tt_reset(TT_BLK)\n",
    "soc.tt_arm(TT_BLK)\n",
    "iq_list = prog.acquire_decimated(soc)\n",
    "soc.tt_disarm(TT_BLK)\n",
    "\n",
    "plot_tags(soc, soccfg, TT_BLK, TT_NSAMP, tt_dt)"
   ]
  },
  {
   "cell_type": "markdown",
   "id": "7a7f73d1",
   "metadata": {},
   "source": [
    "Now we switch to arming the time tagger for each shot, from inside the QICK program.\n",
    "\n",
    "We now get the tags for each shot relative to the shot time."
   ]
  },
  {
   "cell_type": "code",
   "execution_count": 15,
   "id": "941b7b61",
   "metadata": {},
   "outputs": [
    {
     "data": {
      "application/vnd.jupyter.widget-view+json": {
       "model_id": "edc923a18d19450d9a2fc3896d424721",
       "version_major": 2,
       "version_minor": 0
      },
      "text/plain": [
       "  0%|          | 0/1 [00:00<?, ?it/s]"
      ]
     },
     "metadata": {},
     "output_type": "display_data"
    },
    {
     "name": "stdout",
     "output_type": "stream",
     "text": [
      "total tags: 8\n",
      "tags per arming window: [4 4]\n",
      "tags [raw units]:\n",
      "[ 5137 12945 20881 28689]\n",
      "[ 5137 12945 20881 28689]\n",
      "tags relative to 130.640666 [ns]:\n",
      "[  0.         198.56770833 400.390625   598.95833333]\n",
      "[  0.         198.56770833 400.390625   598.95833333]\n"
     ]
    },
    {
     "data": {
      "image/png": "[encoded data removed]",
      "text/plain": [
       "<Figure size 432x288 with 1 Axes>"
      ]
     },
     "metadata": {
      "needs_background": "light"
     },
     "output_type": "display_data"
    }
   ],
   "source": [
    "config['arm_tt'] = True\n",
    "prog = ArmingProgram(soccfg, reps=2, final_delay=2.0, cfg=config)\n",
    "\n",
    "soc.tt_reset(TT_BLK)\n",
    "iq_list = prog.acquire_decimated(soc)\n",
    "plot_tags(soc, soccfg, TT_BLK, TT_NSAMP, tt_dt)"
   ]
  },
  {
   "cell_type": "markdown",
   "id": "5dee2b3e",
   "metadata": {},
   "source": [
    "Those times are not exactly 0.2 us apart - is this what we expect?\n",
    "\n",
    "We check the program pulse times, and confirm that the measured times match the as-compiled times (which are rounded to the nearest tProcessor clock tick)."
   ]
  },
  {
   "cell_type": "code",
   "execution_count": 16,
   "id": "3fed1c65",
   "metadata": {},
   "outputs": [
    {
     "name": "stdout",
     "output_type": "stream",
     "text": [
      "as-compiled pulse times [ns]: [0.0, 198.56770833333334, 400.390625, 598.9583333333334]\n"
     ]
    }
   ],
   "source": [
    "times = [prog.get_time_param(\"%d_0\"%(i), \"t\")*1e3 for i in range(4)]\n",
    "print(\"as-compiled pulse times [ns]: %s\" % (times))"
   ]
  },
  {
   "cell_type": "markdown",
   "id": "970573ab",
   "metadata": {},
   "source": [
    "Repeat with more shots - we see that there's no measurable jitter."
   ]
  },
  {
   "cell_type": "code",
   "execution_count": 17,
   "id": "1ffbc35b",
   "metadata": {},
   "outputs": [
    {
     "data": {
      "application/vnd.jupyter.widget-view+json": {
       "model_id": "caa90f7816eb4c4189b0025bb1604dd4",
       "version_major": 2,
       "version_minor": 0
      },
      "text/plain": [
       "  0%|          | 0/20 [00:00<?, ?it/s]"
      ]
     },
     "metadata": {},
     "output_type": "display_data"
    },
    {
     "name": "stdout",
     "output_type": "stream",
     "text": [
      "tags relative to 130.640666 [ns]:\n",
      "[  0.         198.56770833 400.390625   598.95833333]\n",
      "[  0.         198.56770833 400.390625   598.95833333]\n",
      "[  0.         198.56770833 400.390625   598.95833333]\n",
      "[  0.         198.56770833 400.390625   598.95833333]\n",
      "[  0.         198.56770833 400.390625   598.95833333]\n",
      "[  0.         198.56770833 400.390625   598.95833333]\n",
      "[  0.         198.56770833 400.390625   598.95833333]\n",
      "[  0.         198.56770833 400.390625   598.95833333]\n",
      "[  0.         198.56770833 400.390625   598.95833333]\n",
      "[  0.         198.56770833 400.390625   598.95833333]\n",
      "[  0.         198.56770833 400.390625   598.95833333]\n",
      "[  0.         198.56770833 400.390625   598.95833333]\n",
      "[  0.         198.56770833 400.390625   598.95833333]\n",
      "[  0.         198.56770833 400.390625   598.95833333]\n",
      "[  0.         198.56770833 400.390625   598.95833333]\n",
      "[  0.         198.56770833 400.390625   598.95833333]\n",
      "[  0.         198.56770833 400.390625   598.95833333]\n",
      "[  0.         198.56770833 400.390625   598.95833333]\n",
      "[  0.         198.56770833 400.390625   598.95833333]\n",
      "[  0.         198.56770833 400.390625   598.95833333]\n"
     ]
    }
   ],
   "source": [
    "prog = ArmingProgram(soccfg, reps=20, final_delay=2.0, cfg=config)\n",
    "\n",
    "soc.tt_reset(TT_BLK)\n",
    "prog.run_rounds(soc)\n",
    "tags = soc.tt_readmem(TT_BLK, 'TAG0')\n",
    "\n",
    "tag_times = tags.reshape((-1,4))*tt_dt\n",
    "t_ref = tag_times[0,0]\n",
    "print(\"tags relative to %f [ns]:\" % (t_ref))\n",
    "for x in tag_times: print(x - t_ref)"
   ]
  },
  {
   "cell_type": "code",
   "execution_count": 18,
   "id": "233f9a5a",
   "metadata": {},
   "outputs": [],
   "source": [
    "# config['arm_tt'] = True\n",
    "# prog = ArmingProgram(soccfg, reps=1000, final_delay=20.0, cfg=config)\n",
    "\n",
    "# for i in tqdm(range(20)):\n",
    "#     soc.tt_reset(TT_BLK)\n",
    "#     prog.run_rounds(soc, progress=False)\n",
    "#     tags = soc.tt_readmem(TT_BLK, 'TAG0')\n",
    "#     tags = tags.reshape((-1,4))\n",
    "#     print(tags.mean(axis=0))\n",
    "# #     time.sleep(1)"
   ]
  }
 ],
 "metadata": {
  "kernelspec": {
   "display_name": "Python 3 (ipykernel)",
   "language": "python",
   "name": "python3"
  },
  "language_info": {
   "codemirror_mode": {
    "name": "ipython",
    "version": 3
   },
   "file_extension": ".py",
   "mimetype": "text/x-python",
   "name": "python",
   "nbconvert_exporter": "python",
   "pygments_lexer": "ipython3",
   "version": "3.10.4"
  }
 },
 "nbformat": 4,
 "nbformat_minor": 5
}
